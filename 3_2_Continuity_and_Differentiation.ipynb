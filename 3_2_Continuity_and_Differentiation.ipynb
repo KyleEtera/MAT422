{
  "nbformat": 4,
  "nbformat_minor": 0,
  "metadata": {
    "colab": {
      "provenance": [],
      "authorship_tag": "ABX9TyM/mlYARO0I93rc4yXFz+xI",
      "include_colab_link": true
    },
    "kernelspec": {
      "name": "python3",
      "display_name": "Python 3"
    },
    "language_info": {
      "name": "python"
    }
  },
  "cells": [
    {
      "cell_type": "markdown",
      "metadata": {
        "id": "view-in-github",
        "colab_type": "text"
      },
      "source": [
        "<a href=\"https://colab.research.google.com/github/KyleEtera/MAT422/blob/main/3_2_Continuity_and_Differentiation.ipynb\" target=\"_parent\"><img src=\"https://colab.research.google.com/assets/colab-badge.svg\" alt=\"Open In Colab\"/></a>"
      ]
    },
    {
      "cell_type": "code",
      "execution_count": 117,
      "metadata": {
        "id": "tK7DsOPamdfP"
      },
      "outputs": [],
      "source": [
        "import numpy as np, pandas as pd, scipy.linalg as la, matplotlib.pyplot as plt\n",
        "import sympy as sp\n",
        "from sympy.abc import rho, phi\n",
        "from sympy.matrices import *"
      ]
    },
    {
      "cell_type": "markdown",
      "source": [
        "**3.2.1. Limits and Continuity** - We say we have found the Limit of a function as it's variable approaches any given value if we can find a difference between the limit evaluated at the x value subtracted or added by a small value, ϵ, and the function being smaller than ϵ itself. The value being approached can be any value, often 0 is used or the most interesting option.\n",
        "\n",
        "We can add onto this that the function may be called continuous if the limit equals the value at the x value. With a continuous function, we can combine multiple functions into one without a problem.\n",
        "\n",
        "For example, multiply a value that has been added to, so 2*(3+20) is a valid operation represented by g(f(x)) where g(x) = 2x, f(x) = 3+x and x = 20.\n",
        "\n",
        "We can find an maximum or minimum value if the value is greater than or less than all other values for f(x)."
      ],
      "metadata": {
        "id": "I2yjo8Owmhwv"
      }
    },
    {
      "cell_type": "code",
      "source": [
        "x = sp.Symbol('x')\n",
        "f = 25 / (x**2+x+5)\n",
        "L = sp.limit(f, x, 0)\n",
        "print(L)\n",
        "\n",
        "f = (x+2) / (-x**4+x**3-x**2+x+14)\n",
        "L = sp.limit(f, x, 4)\n",
        "print(L)"
      ],
      "metadata": {
        "colab": {
          "base_uri": "https://localhost:8080/"
        },
        "id": "ZAdB-uOPmoLC",
        "outputId": "287e33d9-0395-4037-802c-01a2a1962c23"
      },
      "execution_count": null,
      "outputs": [
        {
          "output_type": "stream",
          "name": "stdout",
          "text": [
            "5\n",
            "-3/95\n"
          ]
        }
      ]
    },
    {
      "cell_type": "markdown",
      "source": [
        "**3.2.2. Derivatives** - For single variables, we can find the derivative by taking f'(x) = df(x)/dx = lim f(x+h)-f(x) / h as h approaches 0.\n",
        "\n",
        "For multiple variables, we find the derivative in a similar way, but with respect to the particular variable we are interested in. If we have two variables and we take the derivative with respect to either variable and then the other, we get the same values. So, if we have a f(x,y), fₓ(x,y) and fᵧ(x,y) may be different, but fₓᵧ(x,y) and fᵧₓ(x,y) will be the same.\n",
        "\n",
        "The Jacobian of f produces a matrix of column vectors for each x value with their respective partial derivative."
      ],
      "metadata": {
        "id": "0m8lUF2pmobY"
      }
    },
    {
      "cell_type": "code",
      "source": [
        "x=sp.Symbol('x')\n",
        "y=sp.Symbol('y')\n",
        "f = x**2+x+5\n",
        "df=sp.diff(f,x)\n",
        "ddf=sp.diff(df,x)\n",
        "print(f, ' |\\t', df, '  |', ddf)\n",
        "\n",
        "f = (sp.sin(y)) / (sp.cos(x))\n",
        "\n",
        "dfdx = sp.Derivative(f,x)\n",
        "dfdy = sp.Derivative(f,y)\n",
        "dfdxy = sp.Derivative(dfdx,y)\n",
        "dfdyx = sp.Derivative(dfdy,x)\n",
        "print(f, '|', dfdx.doit(), '|', dfdy.doit(), '|', dfdxy.doit(), '|', dfdyx.doit())\n",
        "\n",
        "X = sp.Matrix([rho*sp.cos(phi), rho*sp.sin(phi), rho**2])\n",
        "Y = sp.Matrix([rho, phi])\n",
        "\n",
        "print(X[0], '\\n', X[1], '\\n', X[2])\n",
        "X.jacobian(Y)"
      ],
      "metadata": {
        "colab": {
          "base_uri": "https://localhost:8080/",
          "height": 165
        },
        "id": "Ni7bEMqHmoq_",
        "outputId": "0288e553-96cb-49cf-d2f2-58589f64262e"
      },
      "execution_count": 118,
      "outputs": [
        {
          "output_type": "stream",
          "name": "stdout",
          "text": [
            "x**2 + x + 5  |\t 2*x + 1   | 2\n",
            "sin(y)/cos(x) | sin(x)*sin(y)/cos(x)**2 | cos(y)/cos(x) | sin(x)*cos(y)/cos(x)**2 | sin(x)*cos(y)/cos(x)**2\n",
            "rho*cos(phi) \n",
            " rho*sin(phi) \n",
            " rho**2\n"
          ]
        },
        {
          "output_type": "execute_result",
          "data": {
            "text/plain": [
              "⎡cos(φ)  -ρ⋅sin(φ)⎤\n",
              "⎢                 ⎥\n",
              "⎢sin(φ)  ρ⋅cos(φ) ⎥\n",
              "⎢                 ⎥\n",
              "⎣ 2⋅ρ        0    ⎦"
            ],
            "text/latex": "$\\displaystyle \\left[\\begin{matrix}\\cos{\\left(\\phi \\right)} & - \\rho \\sin{\\left(\\phi \\right)}\\\\\\sin{\\left(\\phi \\right)} & \\rho \\cos{\\left(\\phi \\right)}\\\\2 \\rho & 0\\end{matrix}\\right]$"
          },
          "metadata": {},
          "execution_count": 118
        }
      ]
    },
    {
      "cell_type": "markdown",
      "source": [
        "**3.2.3. Taylor’s Theorem** - In the case we have a differentiable function around a given point [a,b], we can approximate it with a polynomial of the form f(b) = f(a) + (b-a)f'(a) + 1/2(b-a)^2f''(a) + ... + (b-a)^(m-1)/(m-1)!f^(m-1)(a) + Rₘ where m is the number of times the derivatives is continuous for."
      ],
      "metadata": {
        "id": "RcmAaFKymo5C"
      }
    },
    {
      "cell_type": "code",
      "source": [
        "x, t, a, h, k = sp.symbols('x t a h k')\n",
        "x0, t0 = sp.symbols('x_0, t_0')\n",
        "\n",
        "v = sp.Function('v')(x, t)\n",
        "X = Matrix([x,t])\n",
        "dX = Matrix([h,k])\n",
        "sp.init_printing()\n",
        "dX"
      ],
      "metadata": {
        "id": "gA-FTCNEmppO",
        "colab": {
          "base_uri": "https://localhost:8080/",
          "height": 58
        },
        "outputId": "19f43d5b-6390-4f8a-acc4-a6588fe26730"
      },
      "execution_count": 119,
      "outputs": [
        {
          "output_type": "execute_result",
          "data": {
            "text/plain": [
              "⎡h⎤\n",
              "⎢ ⎥\n",
              "⎣k⎦"
            ],
            "text/latex": "$\\displaystyle \\left[\\begin{matrix}h\\\\k\\end{matrix}\\right]$"
          },
          "metadata": {},
          "execution_count": 119
        }
      ]
    },
    {
      "cell_type": "code",
      "source": [
        "X"
      ],
      "metadata": {
        "colab": {
          "base_uri": "https://localhost:8080/",
          "height": 58
        },
        "id": "vahkEvxUMJyM",
        "outputId": "e6e5c0c9-8414-46a8-c5b4-7d90966e2381"
      },
      "execution_count": 102,
      "outputs": [
        {
          "output_type": "execute_result",
          "data": {
            "text/plain": [
              "⎡x⎤\n",
              "⎢ ⎥\n",
              "⎣t⎦"
            ],
            "text/latex": "$\\displaystyle \\left[\\begin{matrix}x\\\\t\\end{matrix}\\right]$"
          },
          "metadata": {},
          "execution_count": 102
        }
      ]
    },
    {
      "cell_type": "code",
      "source": [
        "TE = 0\n",
        "v0 = v\n",
        "for idx, x in enumerate(X):\n",
        "    v0 = v0.subs(x, 0)\n",
        "TE += v0\n",
        "TE"
      ],
      "metadata": {
        "colab": {
          "base_uri": "https://localhost:8080/",
          "height": 38
        },
        "id": "js2MB0D1MLJy",
        "outputId": "595da887-7dd8-4b59-de57-878091f198fe"
      },
      "execution_count": 103,
      "outputs": [
        {
          "output_type": "execute_result",
          "data": {
            "text/plain": [
              "v(0, 0)"
            ],
            "text/latex": "$\\displaystyle v{\\left(0,0 \\right)}$"
          },
          "metadata": {},
          "execution_count": 103
        }
      ]
    },
    {
      "cell_type": "code",
      "source": [
        "gradV = Matrix([v.diff(xi,1) for xi in X])\n",
        "gradV"
      ],
      "metadata": {
        "colab": {
          "base_uri": "https://localhost:8080/",
          "height": 59
        },
        "id": "a-rwUln5MSGg",
        "outputId": "c155ec88-0edb-455b-c9de-43ea531be920"
      },
      "execution_count": 104,
      "outputs": [
        {
          "output_type": "execute_result",
          "data": {
            "text/plain": [
              "⎡∂          ⎤\n",
              "⎢──(v(x, t))⎥\n",
              "⎢∂x         ⎥\n",
              "⎢           ⎥\n",
              "⎢∂          ⎥\n",
              "⎢──(v(x, t))⎥\n",
              "⎣∂t         ⎦"
            ],
            "text/latex": "$\\displaystyle \\left[\\begin{matrix}\\frac{\\partial}{\\partial x} v{\\left(x,t \\right)}\\\\\\frac{\\partial}{\\partial t} v{\\left(x,t \\right)}\\end{matrix}\\right]$"
          },
          "metadata": {},
          "execution_count": 104
        }
      ]
    },
    {
      "cell_type": "code",
      "source": [
        "firstTerm = gradV.T*dX\n",
        "TE += sum(firstTerm)\n",
        "firstTerm[0]"
      ],
      "metadata": {
        "colab": {
          "base_uri": "https://localhost:8080/",
          "height": 52
        },
        "id": "p25y7lBTMVGr",
        "outputId": "5351962e-024f-4df3-9b80-c966a8ee2585"
      },
      "execution_count": 105,
      "outputs": [
        {
          "output_type": "execute_result",
          "data": {
            "text/plain": [
              "  ∂               ∂          \n",
              "h⋅──(v(x, t)) + k⋅──(v(x, t))\n",
              "  ∂x              ∂t         "
            ],
            "text/latex": "$\\displaystyle h \\frac{\\partial}{\\partial x} v{\\left(x,t \\right)} + k \\frac{\\partial}{\\partial t} v{\\left(x,t \\right)}$"
          },
          "metadata": {},
          "execution_count": 105
        }
      ]
    },
    {
      "cell_type": "code",
      "source": [
        "def factorial(n):\n",
        "    if n <= 0:\n",
        "        return 1\n",
        "    else:\n",
        "        return n * factorial(n - 1)\n",
        "tsOrderGroup = lambda f, X, n: dX.T * Matrix([f.diff(xi,1) for xi in X]) / factorial(n)\n",
        "grad = tsOrderGroup(v, X, 1).T\n",
        "fir = grad\n",
        "sum(fir)"
      ],
      "metadata": {
        "colab": {
          "base_uri": "https://localhost:8080/",
          "height": 52
        },
        "id": "-E_f-WvgMZBp",
        "outputId": "a5714caa-c914-484b-ac93-669a7bf98811"
      },
      "execution_count": 106,
      "outputs": [
        {
          "output_type": "execute_result",
          "data": {
            "text/plain": [
              "  ∂               ∂          \n",
              "h⋅──(v(x, t)) + k⋅──(v(x, t))\n",
              "  ∂x              ∂t         "
            ],
            "text/latex": "$\\displaystyle h \\frac{\\partial}{\\partial x} v{\\left(x,t \\right)} + k \\frac{\\partial}{\\partial t} v{\\left(x,t \\right)}$"
          },
          "metadata": {},
          "execution_count": 106
        }
      ]
    },
    {
      "cell_type": "code",
      "source": [
        "sp.hessian(v, X)\n",
        "secondTerm = .5*dX.T*sp.hessian(v, X)*dX\n",
        "TE += sum(secondTerm)\n",
        "sp.simplify(sum(secondTerm))"
      ],
      "metadata": {
        "colab": {
          "base_uri": "https://localhost:8080/",
          "height": 54
        },
        "id": "JhoyCusKMaX_",
        "outputId": "651cbec3-5ff0-4e1a-8c77-801527b271bc"
      },
      "execution_count": 107,
      "outputs": [
        {
          "output_type": "execute_result",
          "data": {
            "text/plain": [
              "        2                       2                      2          \n",
              "     2 ∂                       ∂                    2 ∂           \n",
              "0.5⋅h ⋅───(v(x, t)) + 1.0⋅h⋅k⋅─────(v(x, t)) + 0.5⋅k ⋅───(v(x, t))\n",
              "         2                    ∂x ∂t                     2         \n",
              "       ∂x                                             ∂t          "
            ],
            "text/latex": "$\\displaystyle 0.5 h^{2} \\frac{\\partial^{2}}{\\partial x^{2}} v{\\left(x,t \\right)} + 1.0 h k \\frac{\\partial^{2}}{\\partial x\\partial t} v{\\left(x,t \\right)} + 0.5 k^{2} \\frac{\\partial^{2}}{\\partial t^{2}} v{\\left(x,t \\right)}$"
          },
          "metadata": {},
          "execution_count": 107
        }
      ]
    },
    {
      "cell_type": "code",
      "source": [
        "gNext = Matrix([tsOrderGroup(dv, X, 2) for dv in grad * factorial(2 - 1)])\n",
        "sp.simplify(sum(gNext))"
      ],
      "metadata": {
        "colab": {
          "base_uri": "https://localhost:8080/",
          "height": 58
        },
        "id": "vankuLkiMalH",
        "outputId": "3d3eac9b-e21c-4774-984b-12cb9cab7982"
      },
      "execution_count": 108,
      "outputs": [
        {
          "output_type": "execute_result",
          "data": {
            "text/plain": [
              "    2                                      2          \n",
              " 2 ∂                                    2 ∂           \n",
              "h ⋅───(v(x, t))                        k ⋅───(v(x, t))\n",
              "     2                  2                   2         \n",
              "   ∂x                  ∂                  ∂t          \n",
              "─────────────── + h⋅k⋅─────(v(x, t)) + ───────────────\n",
              "       2              ∂x ∂t                   2       "
            ],
            "text/latex": "$\\displaystyle \\frac{h^{2} \\frac{\\partial^{2}}{\\partial x^{2}} v{\\left(x,t \\right)}}{2} + h k \\frac{\\partial^{2}}{\\partial x\\partial t} v{\\left(x,t \\right)} + \\frac{k^{2} \\frac{\\partial^{2}}{\\partial t^{2}} v{\\left(x,t \\right)}}{2}$"
          },
          "metadata": {},
          "execution_count": 108
        }
      ]
    },
    {
      "cell_type": "code",
      "source": [
        "gNext = Matrix([tsOrderGroup(dv, X, 3) for dv in gNext * factorial(3 - 1)])\n",
        "TE += sum(gNext)\n",
        "sp.simplify(sum(gNext))"
      ],
      "metadata": {
        "colab": {
          "base_uri": "https://localhost:8080/",
          "height": 58
        },
        "id": "JYhcQ6jFMa0A",
        "outputId": "f9301098-db98-43a7-9302-05159946ac40"
      },
      "execution_count": 110,
      "outputs": [
        {
          "output_type": "execute_result",
          "data": {
            "text/plain": [
              "    4                       4                       4                         4                  4 ↪\n",
              " 4 ∂                 3     ∂                2  2   ∂                     3   ∂                4 ∂  ↪\n",
              "h ⋅───(v(x, t))   2⋅h ⋅k⋅──────(v(x, t))   h ⋅k ⋅───────(v(x, t))   2⋅h⋅k ⋅──────(v(x, t))   k ⋅── ↪\n",
              "     4                     3                       2   2                        3                  ↪\n",
              "   ∂x                    ∂x  ∂t                  ∂x  ∂t                    ∂x ∂t                ∂t ↪\n",
              "─────────────── + ────────────────────── + ────────────────────── + ────────────────────── + ───── ↪\n",
              "      18                    9                        3                        9                    ↪\n",
              "\n",
              "↪           \n",
              "↪           \n",
              "↪ ─(v(x, t))\n",
              "↪ 4         \n",
              "↪           \n",
              "↪ ──────────\n",
              "↪  18       "
            ],
            "text/latex": "$\\displaystyle \\frac{h^{4} \\frac{\\partial^{4}}{\\partial x^{4}} v{\\left(x,t \\right)}}{18} + \\frac{2 h^{3} k \\frac{\\partial^{4}}{\\partial x^{3}\\partial t} v{\\left(x,t \\right)}}{9} + \\frac{h^{2} k^{2} \\frac{\\partial^{4}}{\\partial x^{2}\\partial t^{2}} v{\\left(x,t \\right)}}{3} + \\frac{2 h k^{3} \\frac{\\partial^{4}}{\\partial x\\partial t^{3}} v{\\left(x,t \\right)}}{9} + \\frac{k^{4} \\frac{\\partial^{4}}{\\partial t^{4}} v{\\left(x,t \\right)}}{18}$"
          },
          "metadata": {},
          "execution_count": 110
        }
      ]
    },
    {
      "cell_type": "code",
      "source": [
        "TE += sp.O(h**4) + sp.O(k**4)\n",
        "sp.simplify(TE)"
      ],
      "metadata": {
        "colab": {
          "base_uri": "https://localhost:8080/",
          "height": 128
        },
        "id": "W10es_eBMbDo",
        "outputId": "7bd9f968-cdf6-425b-94b9-68fbf4f99477"
      },
      "execution_count": 111,
      "outputs": [
        {
          "output_type": "execute_result",
          "data": {
            "text/plain": [
              "                                          2                                   3                    ↪\n",
              "                    ∂                  2 ∂                                 3 ∂                     ↪\n",
              "1.0⋅v(0, 0) + 1.0⋅k⋅──(v(x, t)) + 0.5⋅k ⋅───(v(x, t)) + 0.166666666666667⋅k ⋅───(v(x, t)) + 1.0⋅h⋅ ↪\n",
              "                    ∂t                     2                                   3                   ↪\n",
              "                                         ∂t                                  ∂t                    ↪\n",
              "\n",
              "↪                         2                          3                                        4    ↪\n",
              "↪ ∂                      ∂                      2   ∂                                    3   ∂     ↪\n",
              "↪ ──(v(x, t)) + 1.0⋅h⋅k⋅─────(v(x, t)) + 0.5⋅h⋅k ⋅──────(v(x, t)) + 0.222222222222222⋅h⋅k ⋅──────( ↪\n",
              "↪ ∂x                    ∂x ∂t                          2                                        3  ↪\n",
              "↪                                                 ∂x ∂t                                    ∂x ∂t   ↪\n",
              "\n",
              "↪                    2                         3                                         4         ↪\n",
              "↪                 2 ∂                   2     ∂                                  2  2   ∂          ↪\n",
              "↪ v(x, t)) + 0.5⋅h ⋅───(v(x, t)) + 0.5⋅h ⋅k⋅──────(v(x, t)) + 0.333333333333333⋅h ⋅k ⋅───────(v(x, ↪\n",
              "↪                     2                       2                                         2   2      ↪\n",
              "↪                   ∂x                      ∂x  ∂t                                    ∂x  ∂t       ↪\n",
              "\n",
              "↪                              3                                       4                           ↪\n",
              "↪                           3 ∂                                 3     ∂                ⎛ 4⎞    ⎛ 4 ↪\n",
              "↪  t)) + 0.166666666666667⋅h ⋅───(v(x, t)) + 0.222222222222222⋅h ⋅k⋅──────(v(x, t)) + O⎝k ⎠ + O⎝h  ↪\n",
              "↪                               3                                     3                            ↪\n",
              "↪                             ∂x                                    ∂x  ∂t                         ↪\n",
              "\n",
              "↪  \n",
              "↪ ⎞\n",
              "↪ ⎠\n",
              "↪  \n",
              "↪  "
            ],
            "text/latex": "$\\displaystyle 1.0 v{\\left(0,0 \\right)} + 1.0 k \\frac{\\partial}{\\partial t} v{\\left(x,t \\right)} + 0.5 k^{2} \\frac{\\partial^{2}}{\\partial t^{2}} v{\\left(x,t \\right)} + 0.166666666666667 k^{3} \\frac{\\partial^{3}}{\\partial t^{3}} v{\\left(x,t \\right)} + 1.0 h \\frac{\\partial}{\\partial x} v{\\left(x,t \\right)} + 1.0 h k \\frac{\\partial^{2}}{\\partial x\\partial t} v{\\left(x,t \\right)} + 0.5 h k^{2} \\frac{\\partial^{3}}{\\partial x\\partial t^{2}} v{\\left(x,t \\right)} + 0.222222222222222 h k^{3} \\frac{\\partial^{4}}{\\partial x\\partial t^{3}} v{\\left(x,t \\right)} + 0.5 h^{2} \\frac{\\partial^{2}}{\\partial x^{2}} v{\\left(x,t \\right)} + 0.5 h^{2} k \\frac{\\partial^{3}}{\\partial x^{2}\\partial t} v{\\left(x,t \\right)} + 0.333333333333333 h^{2} k^{2} \\frac{\\partial^{4}}{\\partial x^{2}\\partial t^{2}} v{\\left(x,t \\right)} + 0.166666666666667 h^{3} \\frac{\\partial^{3}}{\\partial x^{3}} v{\\left(x,t \\right)} + 0.222222222222222 h^{3} k \\frac{\\partial^{4}}{\\partial x^{3}\\partial t} v{\\left(x,t \\right)} + O\\left(k^{4}\\right) + O\\left(h^{4}\\right)$"
          },
          "metadata": {},
          "execution_count": 111
        }
      ]
    },
    {
      "cell_type": "code",
      "source": [
        "TE.removeO()"
      ],
      "metadata": {
        "colab": {
          "base_uri": "https://localhost:8080/",
          "height": 243
        },
        "id": "04qdLSFVMbQh",
        "outputId": "cbec0fd4-b58a-445c-fcfc-7f38f93703c9"
      },
      "execution_count": 112,
      "outputs": [
        {
          "output_type": "execute_result",
          "data": {
            "text/plain": [
              "  ⎛  ⎛  ⎛   4                  4           ⎞     ⎛     4                   4            ⎞⎞     ⎛   ↪\n",
              "  ⎜  ⎜  ⎜  ∂                  ∂            ⎟     ⎜    ∂                   ∂             ⎟⎟     ⎜   ↪\n",
              "  ⎜h⋅⎜h⋅⎜h⋅───(v(x, t)) + k⋅──────(v(x, t))⎟ + k⋅⎜h⋅──────(v(x, t)) + k⋅───────(v(x, t))⎟⎟   k⋅⎜h⋅ ↪\n",
              "  ⎜  ⎜  ⎜    4                3            ⎟     ⎜    3                   2   2         ⎟⎟     ⎜   ↪\n",
              "  ⎜  ⎝  ⎝  ∂x               ∂x  ∂t         ⎠     ⎝  ∂x  ∂t              ∂x  ∂t          ⎠⎠     ⎝   ↪\n",
              "h⋅⎜─────────────────────────────────────────────────────────────────────────────────────── + ───── ↪\n",
              "  ⎝                                           3                                                    ↪\n",
              "────────────────────────────────────────────────────────────────────────────────────────────────── ↪\n",
              "                                                                                            6      ↪\n",
              "                                                                                                   ↪\n",
              "\n",
              "↪ ⎛     4                   4            ⎞     ⎛     4                    4           ⎞⎞⎞          ↪\n",
              "↪ ⎜    ∂                   ∂             ⎟     ⎜    ∂                    ∂            ⎟⎟⎟          ↪\n",
              "↪ ⎜h⋅──────(v(x, t)) + k⋅───────(v(x, t))⎟ + k⋅⎜h⋅───────(v(x, t)) + k⋅──────(v(x, t))⎟⎟⎟     ⎛  ⎛ ↪\n",
              "↪ ⎜    3                   2   2         ⎟     ⎜    2   2                   3         ⎟⎟⎟     ⎜  ⎜ ↪\n",
              "↪ ⎝  ∂x  ∂t              ∂x  ∂t          ⎠     ⎝  ∂x  ∂t               ∂x ∂t          ⎠⎠⎟   h⋅⎜h⋅⎜ ↪\n",
              "↪ ──────────────────────────────────────────────────────────────────────────────────────⎟     ⎜  ⎜ ↪\n",
              "↪                                         3                                             ⎠     ⎝  ⎝ ↪\n",
              "↪ ─────────────────────────────────────────────────────────────────────────────────────── + ────── ↪\n",
              "↪                                                                                                  ↪\n",
              "↪                                                                                                  ↪\n",
              "\n",
              "↪                                                                                                  ↪\n",
              "↪                                                                                                  ↪\n",
              "↪    3                  3           ⎞     ⎛     3                   3           ⎞⎞                 ↪\n",
              "↪   ∂                  ∂            ⎟     ⎜    ∂                   ∂            ⎟⎟                 ↪\n",
              "↪ h⋅───(v(x, t)) + k⋅──────(v(x, t))⎟ + k⋅⎜h⋅──────(v(x, t)) + k⋅──────(v(x, t))⎟⎟                 ↪\n",
              "↪     3                2            ⎟     ⎜    2                      2         ⎟⎟     ⎛       2   ↪\n",
              "↪   ∂x               ∂x  ∂t         ⎠     ⎝  ∂x  ∂t              ∂x ∂t          ⎠⎠     ⎜      ∂    ↪\n",
              "↪ ──────────────────────────────────────────────────────────────────────────────── + h⋅⎜0.5⋅h⋅───( ↪\n",
              "↪                                     6                                                ⎜        2  ↪\n",
              "↪                                                                                      ⎝      ∂x   ↪\n",
              "\n",
              "↪                                                      ⎛  ⎛  ⎛     4                   4           ↪\n",
              "↪                                                      ⎜  ⎜  ⎜    ∂                   ∂            ↪\n",
              "↪                                                      ⎜h⋅⎜h⋅⎜h⋅──────(v(x, t)) + k⋅───────(v(x, t ↪\n",
              "↪                                                      ⎜  ⎜  ⎜    3                   2   2        ↪\n",
              "↪                                                      ⎜  ⎝  ⎝  ∂x  ∂t              ∂x  ∂t         ↪\n",
              "↪                    2           ⎞                   k⋅⎜────────────────────────────────────────── ↪\n",
              "↪                   ∂            ⎟     ∂               ⎝                                           ↪\n",
              "↪ v(x, t)) + 0.5⋅k⋅─────(v(x, t))⎟ + h⋅──(v(x, t)) + ───────────────────────────────────────────── ↪\n",
              "↪                  ∂x ∂t         ⎟     ∂x                                                          ↪\n",
              "↪                                ⎠                                                                 ↪\n",
              "\n",
              "↪   ⎞     ⎛     4                    4           ⎞⎞     ⎛  ⎛     4                    4            ↪\n",
              "↪   ⎟     ⎜    ∂                    ∂            ⎟⎟     ⎜  ⎜    ∂                    ∂             ↪\n",
              "↪ ))⎟ + k⋅⎜h⋅───────(v(x, t)) + k⋅──────(v(x, t))⎟⎟   k⋅⎜h⋅⎜h⋅───────(v(x, t)) + k⋅──────(v(x, t)) ↪\n",
              "↪   ⎟     ⎜    2   2                   3         ⎟⎟     ⎜  ⎜    2   2                   3          ↪\n",
              "↪   ⎠     ⎝  ∂x  ∂t               ∂x ∂t          ⎠⎠     ⎝  ⎝  ∂x  ∂t               ∂x ∂t           ↪\n",
              "↪ ───────────────────────────────────────────────── + ──────────────────────────────────────────── ↪\n",
              "↪    3                                                                                           3 ↪\n",
              "↪ ──────────────────────────────────────────────────────────────────────────────────────────────── ↪\n",
              "↪                                                6                                                 ↪\n",
              "↪                                                                                                  ↪\n",
              "\n",
              "↪ ⎞     ⎛     4                 4          ⎞⎞⎞                                                     ↪\n",
              "↪ ⎟     ⎜    ∂                 ∂           ⎟⎟⎟                                                     ↪\n",
              "↪ ⎟ + k⋅⎜h⋅──────(v(x, t)) + k⋅───(v(x, t))⎟⎟⎟     ⎛  ⎛     3                   3           ⎞      ↪\n",
              "↪ ⎟     ⎜       3                4         ⎟⎟⎟     ⎜  ⎜    ∂                   ∂            ⎟      ↪\n",
              "↪ ⎠     ⎝  ∂x ∂t               ∂t          ⎠⎠⎟   k⋅⎜h⋅⎜h⋅──────(v(x, t)) + k⋅──────(v(x, t))⎟ + k⋅ ↪\n",
              "↪ ───────────────────────────────────────────⎟     ⎜  ⎜    2                      2         ⎟      ↪\n",
              "↪                                            ⎠     ⎝  ⎝  ∂x  ∂t              ∂x ∂t          ⎠      ↪\n",
              "↪ ──────────────────────────────────────────── + ───────────────────────────────────────────────── ↪\n",
              "↪                                                                                          6       ↪\n",
              "↪                                                                                                  ↪\n",
              "\n",
              "↪                                                                                                  ↪\n",
              "↪                                                                                                  ↪\n",
              "↪ ⎛     3                 3          ⎞⎞                                                            ↪\n",
              "↪ ⎜    ∂                 ∂           ⎟⎟                                                            ↪\n",
              "↪ ⎜h⋅──────(v(x, t)) + k⋅───(v(x, t))⎟⎟                                                            ↪\n",
              "↪ ⎜       2                3         ⎟⎟     ⎛        2                     2          ⎞            ↪\n",
              "↪ ⎝  ∂x ∂t               ∂t          ⎠⎠     ⎜       ∂                     ∂           ⎟     ∂      ↪\n",
              "↪ ───────────────────────────────────── + k⋅⎜0.5⋅h⋅─────(v(x, t)) + 0.5⋅k⋅───(v(x, t))⎟ + k⋅──(v(x ↪\n",
              "↪                                           ⎜      ∂x ∂t                    2         ⎟     ∂t     ↪\n",
              "↪                                           ⎝                             ∂t          ⎠            ↪\n",
              "\n",
              "↪                \n",
              "↪                \n",
              "↪                \n",
              "↪                \n",
              "↪                \n",
              "↪                \n",
              "↪                \n",
              "↪ , t)) + v(0, 0)\n",
              "↪                \n",
              "↪                "
            ],
            "text/latex": "$\\displaystyle \\frac{h \\left(\\frac{h \\left(h \\left(h \\frac{\\partial^{4}}{\\partial x^{4}} v{\\left(x,t \\right)} + k \\frac{\\partial^{4}}{\\partial x^{3}\\partial t} v{\\left(x,t \\right)}\\right) + k \\left(h \\frac{\\partial^{4}}{\\partial x^{3}\\partial t} v{\\left(x,t \\right)} + k \\frac{\\partial^{4}}{\\partial x^{2}\\partial t^{2}} v{\\left(x,t \\right)}\\right)\\right)}{3} + \\frac{k \\left(h \\left(h \\frac{\\partial^{4}}{\\partial x^{3}\\partial t} v{\\left(x,t \\right)} + k \\frac{\\partial^{4}}{\\partial x^{2}\\partial t^{2}} v{\\left(x,t \\right)}\\right) + k \\left(h \\frac{\\partial^{4}}{\\partial x^{2}\\partial t^{2}} v{\\left(x,t \\right)} + k \\frac{\\partial^{4}}{\\partial x\\partial t^{3}} v{\\left(x,t \\right)}\\right)\\right)}{3}\\right)}{6} + \\frac{h \\left(h \\left(h \\frac{\\partial^{3}}{\\partial x^{3}} v{\\left(x,t \\right)} + k \\frac{\\partial^{3}}{\\partial x^{2}\\partial t} v{\\left(x,t \\right)}\\right) + k \\left(h \\frac{\\partial^{3}}{\\partial x^{2}\\partial t} v{\\left(x,t \\right)} + k \\frac{\\partial^{3}}{\\partial x\\partial t^{2}} v{\\left(x,t \\right)}\\right)\\right)}{6} + h \\left(0.5 h \\frac{\\partial^{2}}{\\partial x^{2}} v{\\left(x,t \\right)} + 0.5 k \\frac{\\partial^{2}}{\\partial x\\partial t} v{\\left(x,t \\right)}\\right) + h \\frac{\\partial}{\\partial x} v{\\left(x,t \\right)} + \\frac{k \\left(\\frac{h \\left(h \\left(h \\frac{\\partial^{4}}{\\partial x^{3}\\partial t} v{\\left(x,t \\right)} + k \\frac{\\partial^{4}}{\\partial x^{2}\\partial t^{2}} v{\\left(x,t \\right)}\\right) + k \\left(h \\frac{\\partial^{4}}{\\partial x^{2}\\partial t^{2}} v{\\left(x,t \\right)} + k \\frac{\\partial^{4}}{\\partial x\\partial t^{3}} v{\\left(x,t \\right)}\\right)\\right)}{3} + \\frac{k \\left(h \\left(h \\frac{\\partial^{4}}{\\partial x^{2}\\partial t^{2}} v{\\left(x,t \\right)} + k \\frac{\\partial^{4}}{\\partial x\\partial t^{3}} v{\\left(x,t \\right)}\\right) + k \\left(h \\frac{\\partial^{4}}{\\partial x\\partial t^{3}} v{\\left(x,t \\right)} + k \\frac{\\partial^{4}}{\\partial t^{4}} v{\\left(x,t \\right)}\\right)\\right)}{3}\\right)}{6} + \\frac{k \\left(h \\left(h \\frac{\\partial^{3}}{\\partial x^{2}\\partial t} v{\\left(x,t \\right)} + k \\frac{\\partial^{3}}{\\partial x\\partial t^{2}} v{\\left(x,t \\right)}\\right) + k \\left(h \\frac{\\partial^{3}}{\\partial x\\partial t^{2}} v{\\left(x,t \\right)} + k \\frac{\\partial^{3}}{\\partial t^{3}} v{\\left(x,t \\right)}\\right)\\right)}{6} + k \\left(0.5 h \\frac{\\partial^{2}}{\\partial x\\partial t} v{\\left(x,t \\right)} + 0.5 k \\frac{\\partial^{2}}{\\partial t^{2}} v{\\left(x,t \\right)}\\right) + k \\frac{\\partial}{\\partial t} v{\\left(x,t \\right)} + v{\\left(0,0 \\right)}$"
          },
          "metadata": {},
          "execution_count": 112
        }
      ]
    },
    {
      "cell_type": "code",
      "source": [
        "def myTaylorSeries(v, nOrder, X, dX):\n",
        "    TE = 0\n",
        "    v0 = v\n",
        "    for idx, x in enumerate(X):\n",
        "        v0 = v0.subs(x, 0)\n",
        "        TE += sp.O(x**(nOrder+1))\n",
        "    TE += v0\n",
        "    tsOrderGroup = lambda f, X, n: dX.T * Matrix([f.diff(xi,1) for xi in X])\n",
        "    grad = tsOrderGroup(v, X, 1).T\n",
        "    TE += sum(grad)\n",
        "    gNext = grad\n",
        "    for nord in range(2, nOrder+1):\n",
        "        gNext = Matrix([tsOrderGroup(dv, X, nord) for dv in gNext])\n",
        "        TE += sum(gNext)/factorial(nord)\n",
        "    return TE\n",
        "sp.simplify(myTaylorSeries(v, 4, X, dX))"
      ],
      "metadata": {
        "colab": {
          "base_uri": "https://localhost:8080/",
          "height": 100
        },
        "id": "9XjlHOV5Mbcz",
        "outputId": "cffc7ad1-4c85-499f-99d7-8d8fc2d2503f"
      },
      "execution_count": 113,
      "outputs": [
        {
          "output_type": "execute_result",
          "data": {
            "text/plain": [
              "                              2                 3                 4                                ↪\n",
              "                           2 ∂               3 ∂               4 ∂                                 ↪\n",
              "                          k ⋅───(v(x, t))   k ⋅───(v(x, t))   k ⋅───(v(x, t))                      ↪\n",
              "                               2                 3                 4                               ↪\n",
              "            ∂                ∂t                ∂t                ∂t               ∂                ↪\n",
              "v(0, 0) + k⋅──(v(x, t)) + ─────────────── + ─────────────── + ─────────────── + h⋅──(v(x, t)) + h⋅ ↪\n",
              "            ∂t                   2                 6                24            ∂x               ↪\n",
              "\n",
              "↪                            3                      4                  2                     3     ↪\n",
              "↪                       2   ∂                  3   ∂                2 ∂               2     ∂      ↪\n",
              "↪                    h⋅k ⋅──────(v(x, t))   h⋅k ⋅──────(v(x, t))   h ⋅───(v(x, t))   h ⋅k⋅──────(v ↪\n",
              "↪     2                        2                      3                 2                   2      ↪\n",
              "↪    ∂                    ∂x ∂t                  ∂x ∂t                ∂x                  ∂x  ∂t   ↪\n",
              "↪ k⋅─────(v(x, t)) + ──────────────────── + ──────────────────── + ─────────────── + ───────────── ↪\n",
              "↪   ∂x ∂t                     2                      6                    2                   2    ↪\n",
              "\n",
              "↪                    4                   3                     4                  4                ↪\n",
              "↪            2  2   ∂                 3 ∂               3     ∂                4 ∂                 ↪\n",
              "↪ (x, t))   h ⋅k ⋅───────(v(x, t))   h ⋅───(v(x, t))   h ⋅k⋅──────(v(x, t))   h ⋅───(v(x, t))      ↪\n",
              "↪                   2   2                 3                   3                    4               ↪\n",
              "↪                 ∂x  ∂t                ∂x                  ∂x  ∂t               ∂x              ⎛ ↪\n",
              "↪ ─────── + ────────────────────── + ─────────────── + ──────────────────── + ─────────────── + O⎝ ↪\n",
              "↪                     4                     6                   6                   24             ↪\n",
              "\n",
              "↪            \n",
              "↪            \n",
              "↪            \n",
              "↪            \n",
              "↪  5⎞    ⎛ 5⎞\n",
              "↪ x ⎠ + O⎝t ⎠\n",
              "↪            "
            ],
            "text/latex": "$\\displaystyle v{\\left(0,0 \\right)} + k \\frac{\\partial}{\\partial t} v{\\left(x,t \\right)} + \\frac{k^{2} \\frac{\\partial^{2}}{\\partial t^{2}} v{\\left(x,t \\right)}}{2} + \\frac{k^{3} \\frac{\\partial^{3}}{\\partial t^{3}} v{\\left(x,t \\right)}}{6} + \\frac{k^{4} \\frac{\\partial^{4}}{\\partial t^{4}} v{\\left(x,t \\right)}}{24} + h \\frac{\\partial}{\\partial x} v{\\left(x,t \\right)} + h k \\frac{\\partial^{2}}{\\partial x\\partial t} v{\\left(x,t \\right)} + \\frac{h k^{2} \\frac{\\partial^{3}}{\\partial x\\partial t^{2}} v{\\left(x,t \\right)}}{2} + \\frac{h k^{3} \\frac{\\partial^{4}}{\\partial x\\partial t^{3}} v{\\left(x,t \\right)}}{6} + \\frac{h^{2} \\frac{\\partial^{2}}{\\partial x^{2}} v{\\left(x,t \\right)}}{2} + \\frac{h^{2} k \\frac{\\partial^{3}}{\\partial x^{2}\\partial t} v{\\left(x,t \\right)}}{2} + \\frac{h^{2} k^{2} \\frac{\\partial^{4}}{\\partial x^{2}\\partial t^{2}} v{\\left(x,t \\right)}}{4} + \\frac{h^{3} \\frac{\\partial^{3}}{\\partial x^{3}} v{\\left(x,t \\right)}}{6} + \\frac{h^{3} k \\frac{\\partial^{4}}{\\partial x^{3}\\partial t} v{\\left(x,t \\right)}}{6} + \\frac{h^{4} \\frac{\\partial^{4}}{\\partial x^{4}} v{\\left(x,t \\right)}}{24} + O\\left(x^{5}\\right) + O\\left(t^{5}\\right)$"
          },
          "metadata": {},
          "execution_count": 113
        }
      ]
    },
    {
      "cell_type": "code",
      "source": [
        "x, y, z, t, h, l, m, k = sp.symbols('x, y, z, t, h, l, m, k')\n",
        "S = Matrix([x, y, z, t])\n",
        "dS = Matrix([h, l, m, k])\n",
        "f = sp.Function('f')(x, y, z, t)\n",
        "fTS = myTaylorSeries(f, 2, S, dS)\n",
        "sp.simplify(fTS)"
      ],
      "metadata": {
        "colab": {
          "base_uri": "https://localhost:8080/",
          "height": 150
        },
        "id": "mtSjr_mtMbqF",
        "outputId": "31f65d8c-17fa-4ebc-b5ec-de74de27193e"
      },
      "execution_count": 114,
      "outputs": [
        {
          "output_type": "execute_result",
          "data": {
            "text/plain": [
              "                                          2                                                        ↪\n",
              "                                       2 ∂                                                         ↪\n",
              "                                      m ⋅───(f(x, y, z, t))                                        ↪\n",
              "                                           2                                              2        ↪\n",
              "                  ∂                      ∂z                     ∂                        ∂         ↪\n",
              "f(0, 0, 0, 0) + m⋅──(f(x, y, z, t)) + ───────────────────── + l⋅──(f(x, y, z, t)) + l⋅m⋅─────(f(x, ↪\n",
              "                  ∂z                            2               ∂y                      ∂z ∂y      ↪\n",
              "\n",
              "↪                  2                                                                               ↪\n",
              "↪               2 ∂                                                                                ↪\n",
              "↪              l ⋅───(f(x, y, z, t))                                                               ↪\n",
              "↪                   2                                              2                          2    ↪\n",
              "↪                 ∂y                     ∂                        ∂                          ∂     ↪\n",
              "↪  y, z, t)) + ───────────────────── + k⋅──(f(x, y, z, t)) + k⋅m⋅─────(f(x, y, z, t)) + k⋅l⋅─────( ↪\n",
              "↪                        2               ∂t                      ∂z ∂t                      ∂y ∂t  ↪\n",
              "\n",
              "↪                      2                                                                           ↪\n",
              "↪                   2 ∂                                                                            ↪\n",
              "↪                  k ⋅───(f(x, y, z, t))                                                           ↪\n",
              "↪                       2                                              2                           ↪\n",
              "↪                     ∂t                     ∂                        ∂                          ∂ ↪\n",
              "↪ f(x, y, z, t)) + ───────────────────── + h⋅──(f(x, y, z, t)) + h⋅m⋅─────(f(x, y, z, t)) + h⋅l⋅── ↪\n",
              "↪                            2               ∂x                      ∂z ∂x                      ∂y ↪\n",
              "\n",
              "↪                                                     2                                            ↪\n",
              "↪                                                  2 ∂                                             ↪\n",
              "↪                                                 h ⋅───(f(x, y, z, t))                            ↪\n",
              "↪ 2                          2                         2                                           ↪\n",
              "↪                           ∂                        ∂x                    ⎛ 3⎞    ⎛ 3⎞    ⎛ 3⎞    ↪\n",
              "↪ ───(f(x, y, z, t)) + h⋅k⋅─────(f(x, y, z, t)) + ───────────────────── + O⎝z ⎠ + O⎝y ⎠ + O⎝x ⎠ +  ↪\n",
              "↪  ∂x                      ∂x ∂t                            2                                      ↪\n",
              "\n",
              "↪      \n",
              "↪      \n",
              "↪      \n",
              "↪      \n",
              "↪  ⎛ 3⎞\n",
              "↪ O⎝t ⎠\n",
              "↪      "
            ],
            "text/latex": "$\\displaystyle f{\\left(0,0,0,0 \\right)} + m \\frac{\\partial}{\\partial z} f{\\left(x,y,z,t \\right)} + \\frac{m^{2} \\frac{\\partial^{2}}{\\partial z^{2}} f{\\left(x,y,z,t \\right)}}{2} + l \\frac{\\partial}{\\partial y} f{\\left(x,y,z,t \\right)} + l m \\frac{\\partial^{2}}{\\partial z\\partial y} f{\\left(x,y,z,t \\right)} + \\frac{l^{2} \\frac{\\partial^{2}}{\\partial y^{2}} f{\\left(x,y,z,t \\right)}}{2} + k \\frac{\\partial}{\\partial t} f{\\left(x,y,z,t \\right)} + k m \\frac{\\partial^{2}}{\\partial z\\partial t} f{\\left(x,y,z,t \\right)} + k l \\frac{\\partial^{2}}{\\partial y\\partial t} f{\\left(x,y,z,t \\right)} + \\frac{k^{2} \\frac{\\partial^{2}}{\\partial t^{2}} f{\\left(x,y,z,t \\right)}}{2} + h \\frac{\\partial}{\\partial x} f{\\left(x,y,z,t \\right)} + h m \\frac{\\partial^{2}}{\\partial z\\partial x} f{\\left(x,y,z,t \\right)} + h l \\frac{\\partial^{2}}{\\partial y\\partial x} f{\\left(x,y,z,t \\right)} + h k \\frac{\\partial^{2}}{\\partial x\\partial t} f{\\left(x,y,z,t \\right)} + \\frac{h^{2} \\frac{\\partial^{2}}{\\partial x^{2}} f{\\left(x,y,z,t \\right)}}{2} + O\\left(z^{3}\\right) + O\\left(y^{3}\\right) + O\\left(x^{3}\\right) + O\\left(t^{3}\\right)$"
          },
          "metadata": {},
          "execution_count": 114
        }
      ]
    },
    {
      "cell_type": "markdown",
      "source": [
        "Source:\n",
        "https://github.com/madonnaojorin/MAT494/blob/main/3.2_Continunity_and_Differentiation.ipynb"
      ],
      "metadata": {
        "id": "DkfsxeGwL8NI"
      }
    }
  ]
}