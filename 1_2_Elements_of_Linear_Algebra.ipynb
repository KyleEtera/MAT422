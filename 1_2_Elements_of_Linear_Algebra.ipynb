{
  "nbformat": 4,
  "nbformat_minor": 0,
  "metadata": {
    "colab": {
      "provenance": [],
      "authorship_tag": "ABX9TyOJ7CBgPY8qvIKaTPiixBGn",
      "include_colab_link": true
    },
    "kernelspec": {
      "name": "python3",
      "display_name": "Python 3"
    },
    "language_info": {
      "name": "python"
    }
  },
  "cells": [
    {
      "cell_type": "markdown",
      "metadata": {
        "id": "view-in-github",
        "colab_type": "text"
      },
      "source": [
        "<a href=\"https://colab.research.google.com/github/KyleEtera/MAT422/blob/main/1_2_Elements_of_Linear_Algebra.ipynb\" target=\"_parent\"><img src=\"https://colab.research.google.com/assets/colab-badge.svg\" alt=\"Open In Colab\"/></a>"
      ]
    },
    {
      "cell_type": "code",
      "execution_count": 126,
      "metadata": {
        "id": "g169bnIzZMvj"
      },
      "outputs": [],
      "source": [
        "import numpy as np\n",
        "import scipy.linalg as la\n",
        "import matplotlib.pyplot as plt\n",
        "import sympy"
      ]
    },
    {
      "cell_type": "markdown",
      "source": [
        "**1.2.1 Linear Spaces** - A set of vectors, which are matrices of only one row or column. These vectors can be added together, multiplied by scalars, or both, forming a linear combination. Matrix addition can only be done on matrices of the same number of rows and columns.\n",
        "\n",
        "A transpose is a helpful tool to flip a matrix from rowXcolumn to columnXrow.\n",
        "\n",
        "**Linear Subspace** - A subset, B, of a Linear Space, A, that all scalar multiplications of a vector in the subspace are also in B, and all vector additions in the subspace are also in B. This includes the zero vector, v_0."
      ],
      "metadata": {
        "id": "PkrdIttLZb_T"
      }
    },
    {
      "cell_type": "code",
      "source": [
        "# Define row, column, and zero vector for future use\n",
        "row_matrix = np.array([2,3])\n",
        "column_matrix = np.array([[3],[4]])\n",
        "v_0 = np.zeros([3, 1])\n",
        "print(\"Starting Vectors\")\n",
        "print(column_matrix, \"\\t\", row_matrix, \"\\n\")\n",
        "print(v_0, \"\\n\")\n",
        "\n",
        "# Scalar Multiplication\n",
        "print(\"Scalar Multiplication\")\n",
        "scalar_row_mult = 2 * row_matrix\n",
        "scalar_col_mult = 2 * column_matrix\n",
        "print(scalar_col_mult, \"\\t\", scalar_row_mult, \"\\n\")\n",
        "\n",
        "# Matrix Addition\n",
        "print(\"Matrix Addition\")\n",
        "matrix_add = row_matrix + column_matrix.T\n",
        "print(matrix_add, \"\\n\")"
      ],
      "metadata": {
        "colab": {
          "base_uri": "https://localhost:8080/"
        },
        "collapsed": true,
        "id": "Gc1zf3abZ0yh",
        "outputId": "0d9040f6-74f7-441b-f2c0-e98e34b9f8d5"
      },
      "execution_count": 125,
      "outputs": [
        {
          "output_type": "stream",
          "name": "stdout",
          "text": [
            "Starting Vectors\n",
            "[[3]\n",
            " [4]] \t [2 3] \n",
            "\n",
            "[[0.]\n",
            " [0.]\n",
            " [0.]] \n",
            "\n",
            "Scalar Multiplication\n",
            "[[6]\n",
            " [8]] \t [4 6] \n",
            "\n",
            "Matrix Addition\n",
            "[[5 7]] \n",
            "\n"
          ]
        }
      ]
    },
    {
      "cell_type": "markdown",
      "source": [
        "**Span** - The set of all linear combinations of the vectors in a Linear Space, V. This also makes the Span a Linear Subspace.\n",
        "\n",
        "\n",
        "**Linear Independence** - Vectors from the same Vector Space are linearly independent if the equation:\n",
        "\n",
        "a1 * v1 + a2 * v2 + ... + an * vn = 0_v\n",
        "\n",
        "Can only be solved with ai = 0 for i = 1, 2, ..., n, where v_0 is the zero vector."
      ],
      "metadata": {
        "id": "Hc-QdK5Yfja9"
      }
    },
    {
      "cell_type": "code",
      "source": [
        "# Create three example column vectors to show linear independence\n",
        "v_A = np.array([[3], [5], [9]])\n",
        "v_B = np.array([[1], [2], [3]])\n",
        "v_C = np.array([[2], [2], [2]])\n",
        "\n",
        "# Let us try to find a scalar a and b that satisfies v_0 = a*v_A + b*v_B + c*v_b\n",
        "# This can be done through taking the RREF of the combined Matrix AB\n",
        "v_AB = np.array([[3, 1, 2], [5, 2, 2], [9, 3, 2]])\n",
        "AB_rref = sympy.Matrix(v_AB).rref()\n",
        "print(AB_rref, \"\\n\")"
      ],
      "metadata": {
        "colab": {
          "base_uri": "https://localhost:8080/"
        },
        "id": "w6TLYlTmh8xZ",
        "outputId": "a4791789-2d2b-4603-b58e-fa0c0070792c",
        "collapsed": true
      },
      "execution_count": 124,
      "outputs": [
        {
          "output_type": "stream",
          "name": "stdout",
          "text": [
            "(Matrix([\n",
            "[1, 0, 0],\n",
            "[0, 1, 0],\n",
            "[0, 0, 1]]), (0, 1, 2)) \n",
            "\n"
          ]
        }
      ]
    },
    {
      "cell_type": "markdown",
      "source": [
        "Since we get the result of a 3x3 matrix with 1's in all diagonals, we know that each each vector is independent and cannot be a linear combination of the other vectors. This 3x3 matrix is known as an identity matrix. Otherwise this would have been called linearly dependent.\n",
        "\n",
        "**1.2.2 Orthagonality** - A set of vectors are orthogonal to each other when their dot product, or inner product, is 0.\n",
        "\n",
        "**Orthonormality** - This set of vectors is also orthonormal if their norm is 1."
      ],
      "metadata": {
        "id": "2JfZlHGUdSyy"
      }
    },
    {
      "cell_type": "code",
      "source": [
        "# Let's redefine some vectors\n",
        "v_A = np.array([[3], [5], [9]])\n",
        "v_B = np.array([[1], [3], [-2]])\n",
        "\n",
        "# We can find the dot product by summing the result of\n",
        "# multiplying each term of vector A with vector B\n",
        "print(\"The Dot Product is:\")\n",
        "print(v_A[0] * v_B[0] + v_A[1] * v_B[1] + v_A[2] * v_B[2])\n",
        "\n",
        "# From here on we shall just use np.dot and transposing one array\n",
        "print(np.dot(v_A.T, v_B), \"\\n\")\n",
        "\n",
        "# We can find the norm of a vector by\n",
        "# taking the square root of the sum of each term squared\n",
        "print(\"The Norm of v_A and v_B are:\")\n",
        "print(np.sqrt(np.sum(v_A * v_A)))\n",
        "print(np.sqrt(np.sum(v_B * v_B)), \"\\n\")\n",
        "\n",
        "# From here on we shall just use np.linalg.norm\n",
        "print(np.linalg.norm(v_A))\n",
        "print(np.linalg.norm(v_B), \"\\n\")"
      ],
      "metadata": {
        "colab": {
          "base_uri": "https://localhost:8080/"
        },
        "id": "iEdDfAjKzOww",
        "outputId": "2ea8788b-dfef-4aad-972d-34600175a21a",
        "collapsed": true
      },
      "execution_count": 129,
      "outputs": [
        {
          "output_type": "stream",
          "name": "stdout",
          "text": [
            "The Dot Product is:\n",
            "[0]\n",
            "[[0]] \n",
            "\n",
            "The Norm of v_A and v_B are:\n",
            "10.723805294763608\n",
            "3.7416573867739413 \n",
            "\n",
            "10.723805294763608\n",
            "3.7416573867739413 \n",
            "\n"
          ]
        }
      ]
    },
    {
      "cell_type": "markdown",
      "source": [
        "**Orthonormal Basis Expansion** - We can find a vector by summing the dot product of it and the orthonormal basis of a subspace times the orthonormal basis again.\n",
        "\n",
        "**Best Approximation Theorem** - Suppose we want to find the closest vector, v*, to the vector, v, not in the linear subspace, U, that is normed. We can find this vector by finding a vector that makes a right angle with a vector, u1, spanning the subspace, U, which is in a linear space V.\n",
        "\n",
        "**Orthogonal Projection** - The orthogonal projection of v onto U in V on U is the projection of v onto U is equal to the sum of the dot products between v and the orthonormal basis of U times q. That is, the Orthonormal Basis Expansion.\n",
        "\n",
        "This allows the dot product of v minus the projection of v onto U to be less than or equal to the dot product of v minus any vector, u, inside U.\n",
        "\n",
        "**Cauchy-Swartz** - The inner product of two vectors, u and v, in the linear space V is less than or equal to the multiplication of the two individual inner products.\n",
        "\n",
        "**Orthogonal Decomposition** - For any vector, u, in a linear subspace, U, of a linear space, V, with orthonormal basis q1,...,qm, with v in V, the inner product of v minus the projection of v onto U with u equals 0."
      ],
      "metadata": {
        "id": "xBKlUlpUDbk-"
      }
    },
    {
      "cell_type": "code",
      "source": [
        "v = np.array([np.sqrt(3),1])\n",
        "v_star = np.array([np.sqrt(3),0])\n",
        "v_minus_v_star = np.array([0,1])\n",
        "approx_v = np.array([v_star,v_minus_v_star,v])\n",
        "u_1 = np.array([1,0])\n",
        "\n",
        "origin = np.array([[0, 0, 0],[0, 0, 0]])\n",
        "plt.xlim(-0.1, 2)\n",
        "plt.ylim(-0.1, 1.1)\n",
        "plt.quiver(*origin, approx_v[:,0], approx_v[:,1], color=['r','g','b'], angles='xy', scale_units='xy', scale=1)\n",
        "plt.title(\"Best Approximation Theorem Geometric Intuition\")\n",
        "plt.vlines(np.sqrt(3), 0, 1, linestyle=\"dashed\", color=\"k\")\n",
        "plt.hlines(1, 0, np.sqrt(3), linestyle=\"dashed\", color=\"k\")\n",
        "plt.axis('off')\n",
        "plt.show()\n",
        "\n",
        "print(\"\\nCheck orthoganality\\n\", u_1 @ v_minus_v_star, \"\\nCheck equality\\n\", v_star, \" = \", u_1 @ v * u_1)\n",
        "print(\"\\nThat is: v* = <u1, v>u1, the orthonormal basis expansion\")"
      ],
      "metadata": {
        "colab": {
          "base_uri": "https://localhost:8080/",
          "height": 550
        },
        "id": "WbccXLGYHWiB",
        "outputId": "10e5a49e-8cd4-452b-f6cf-ed42c58323e0"
      },
      "execution_count": 130,
      "outputs": [
        {
          "output_type": "display_data",
          "data": {
            "text/plain": [
              "<Figure size 640x480 with 1 Axes>"
            ],
            "image/png": "[encoded data removed]"
          },
          "metadata": {}
        },
        {
          "output_type": "stream",
          "name": "stdout",
          "text": [
            "\n",
            "Check orthoganality\n",
            " 0 \n",
            "Check equality\n",
            " [1.73205081 0.        ]  =  [1.73205081 0.        ]\n",
            "\n",
            "That is: v* = <u1, v>u1, the orthonormal basis expansion\n"
          ]
        }
      ]
    },
    {
      "cell_type": "markdown",
      "source": [
        "**1.2.3 Gram-Schmidt Process** - An algorithm used to obtain an orthonormal basis from the set of linearly independent vectors that span a linear space using orthogonal projection properties. This creates a basis spanning the same subspace with orthogonality ensured by orthogonal decomposition.\n",
        "\n",
        "Because this examples only has one column, we only need 1 'loop'. Generally you would loop through all columns, subtracting the previous column's projection before dividing by the norm."
      ],
      "metadata": {
        "id": "Y-9L8HzpNsZL"
      }
    },
    {
      "cell_type": "code",
      "source": [
        "# Taking from 1.2.2 Orthagonality and Orthonormality examples,\n",
        "# we can recall that v_A and v_B were not orthonormal\n",
        "print(\"Orthonormalized\")\n",
        "ON_v_A = v_A / np.linalg.norm(v_A)\n",
        "ON_v_B = v_B / np.linalg.norm(v_B)\n",
        "print(ON_v_A)\n",
        "print(np.linalg.norm(ON_v_A), \"\\n\")\n",
        "print(ON_v_B)\n",
        "print(np.linalg.norm(ON_v_B), \"\\n\")\n",
        "\n",
        "# Lets verify the dot product is still 0\n",
        "print(np.dot(ON_v_A.T, ON_v_B))\n",
        "\n",
        "print(\"\\nProjection of v1 onto U\")\n",
        "v_1 = np.array([2, 2, 2])\n",
        "proj_v_U = np.dot(v_1, ON_v_A) * ON_v_A + np.dot(v_1, ON_v_B) * ON_v_B\n",
        "print(proj_v_U)\n",
        "\n",
        "b_1 = v_1 - proj_v_U\n",
        "q_1 = b_1 / np.linalg.norm(b_1)\n",
        "print(b_1, \"\\n\", q_1)"
      ],
      "metadata": {
        "colab": {
          "base_uri": "https://localhost:8080/"
        },
        "id": "59oAehRsP6sZ",
        "outputId": "23ccfcd5-25d8-433c-e5f8-e441534a760c"
      },
      "execution_count": 121,
      "outputs": [
        {
          "output_type": "stream",
          "name": "stdout",
          "text": [
            "Orthonormalized\n",
            "[[0.27975144]\n",
            " [0.4662524 ]\n",
            " [0.83925433]]\n",
            "1.0 \n",
            "\n",
            "[[ 0.26726124]\n",
            " [ 0.80178373]\n",
            " [-0.53452248]]\n",
            "1.0 \n",
            "\n",
            "[[0.]]\n",
            "\n",
            "Projection of v1 onto U\n",
            "[[1.17267081]\n",
            " [2.33540373]\n",
            " [2.08944099]]\n",
            "[[ 0.82732919  0.82732919  0.82732919]\n",
            " [-0.33540373 -0.33540373 -0.33540373]\n",
            " [-0.08944099 -0.08944099 -0.08944099]] \n",
            " [[ 0.53238788  0.53238788  0.53238788]\n",
            " [-0.21583292 -0.21583292 -0.21583292]\n",
            " [-0.05755545 -0.05755545 -0.05755545]]\n"
          ]
        }
      ]
    },
    {
      "cell_type": "markdown",
      "source": [
        "**Eigenvalues and Eigenvectors** - Given a square matrix, A, there is an eigenvalue, lambda, of A if there exists a nonzero vector called the eigenvector, x, such that\n",
        "\n",
        "A * x = lambda * x.\n",
        "\n",
        "\n",
        "**Spectral Theorem for Symmetric Matrices** - For an nxn symmetric matrix A:\n",
        "\n",
        "\n",
        "* A has n real eigenvalues, counting multiplicities\n",
        "* If lambda is an eigenvalue of A with multiplicity k, then the eigenspace for lamda is k-dimensional\n",
        "* The eigenspaces or mutually orthogonal, in the sense that eigenvectors corresponding to different eigenvalues are orthogonal\n",
        "* A is orthogonally diagonizable"
      ],
      "metadata": {
        "id": "Cd4nV_WAYYmT"
      }
    },
    {
      "cell_type": "code",
      "source": [
        "# Lets create two new matrices to use for these examples\n",
        "m_A = np.array([[3, 4], [6, 1]])\n",
        "m_B = np.array([[1, 3], [3, 1]])\n",
        "e_val, e_vect = np.linalg.eig(m_A)\n",
        "print(\"Both A and B will have 2 real, 1-dimensional eigenvalues each\")\n",
        "print(\"\\nMatrix A: Square, Non-Symmetric\")\n",
        "print(e_val)\n",
        "print(e_vect)\n",
        "print(\"These eigenvectors are not orthogonal since this is non-symmetric: \\n\", np.dot(e_vect[1], e_vect[0]))\n",
        "\n",
        "print(\"\\nVerify A * x = lamda * x\")\n",
        "print(m_A @ e_vect)\n",
        "print(e_vect * e_val)\n",
        "\n",
        "e_val, e_vect = np.linalg.eig(m_B)\n",
        "print(\"\\nMatrix B: Square, Symmetric\")\n",
        "print(e_val)\n",
        "print(e_vect)\n",
        "print(\"These eigenvectors are orthogonal since this is symmetric: \\n\",np.dot(e_vect[1], e_vect[0]))\n",
        "\n",
        "print(\"\\nVerify A * x = lamda * x\")\n",
        "print(m_B @ e_vect)\n",
        "print(e_vect * e_val)"
      ],
      "metadata": {
        "colab": {
          "base_uri": "https://localhost:8080/"
        },
        "id": "ITC8UnPJfQtO",
        "outputId": "eaf6fd69-b1e6-4638-c9f0-ba93c276afed"
      },
      "execution_count": 120,
      "outputs": [
        {
          "output_type": "stream",
          "name": "stdout",
          "text": [
            "Both A and B will have 2 real, 1-dimensional eigenvalues each\n",
            "\n",
            "Matrix A: Square, Non-Symmetric\n",
            "[ 7. -3.]\n",
            "[[ 0.70710678 -0.5547002 ]\n",
            " [ 0.70710678  0.83205029]]\n",
            "These eigenvectors are not orthogonal since this is non-symmetric: \n",
            " 0.038461538461538214\n",
            "\n",
            "Verify A * x = lamda * x\n",
            "[[ 4.94974747  1.66410059]\n",
            " [ 4.94974747 -2.49615088]]\n",
            "[[ 4.94974747  1.66410059]\n",
            " [ 4.94974747 -2.49615088]]\n",
            "\n",
            "Matrix B: Square, Symmetric\n",
            "[ 4. -2.]\n",
            "[[ 0.70710678 -0.70710678]\n",
            " [ 0.70710678  0.70710678]]\n",
            "These eigenvectors are orthogonal since this is symmetric: \n",
            " 0.0\n",
            "\n",
            "Verify A * x = lamda * x\n",
            "[[ 2.82842712  1.41421356]\n",
            " [ 2.82842712 -1.41421356]]\n",
            "[[ 2.82842712  1.41421356]\n",
            " [ 2.82842712 -1.41421356]]\n"
          ]
        }
      ]
    }
  ]
}