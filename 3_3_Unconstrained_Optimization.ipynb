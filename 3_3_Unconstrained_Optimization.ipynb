{
  "nbformat": 4,
  "nbformat_minor": 0,
  "metadata": {
    "colab": {
      "provenance": [],
      "include_colab_link": true
    },
    "kernelspec": {
      "name": "python3",
      "display_name": "Python 3"
    },
    "language_info": {
      "name": "python"
    }
  },
  "cells": [
    {
      "cell_type": "markdown",
      "metadata": {
        "id": "view-in-github",
        "colab_type": "text"
      },
      "source": [
        "<a href=\"https://colab.research.google.com/github/KyleEtera/MAT422/blob/main/3_3_Unconstrained_Optimization.ipynb\" target=\"_parent\"><img src=\"https://colab.research.google.com/assets/colab-badge.svg\" alt=\"Open In Colab\"/></a>"
      ]
    },
    {
      "cell_type": "markdown",
      "metadata": {
        "id": "2BqwoE5n_Ao9"
      },
      "source": [
        "**3.3 Unconstrained Optimization**  - A minimizer of a function is the lowest point on the function. We can find this either over the entire function, or over a small subsection of the function, by taking an ẋ that equals the same x value minus some small difference and finding where it is less than every value in the function, or in the subsection for local.\n",
        "\n",
        "The descent direction similarly is found by adding a small difference vector to the x value that is less than the x value by itself."
      ]
    },
    {
      "cell_type": "code",
      "metadata": {
        "colab": {
          "base_uri": "https://localhost:8080/"
        },
        "id": "kWM_q4UjRlIV",
        "outputId": "557c400b-fc42-4c16-a019-9d4ccf196828"
      },
      "source": [
        "from scipy import optimize\n",
        "import numpy as np\n",
        "\n",
        "def f(x):\n",
        "  return -np.exp(-(x - 0.7)**2)\n",
        "min_vals = optimize.minimize_scalar(f)\n",
        "print(min_vals.x)\n",
        "\n",
        "def f(x):   # The rosenbrock function\n",
        "  return .5*(1 - x[0])**2 + (x[1] - x[0]**2)**2\n",
        "  optimize.minimize(f, [2, -1], method=\"CG\")\n",
        "\n",
        "def jacobian(x):\n",
        "  return np.array((-2*.5*(1 - x[0]) - 4*x[0]*(x[1] - x[0]**2), 2*(x[1] - x[0]**2)))\n",
        "optimize.minimize(f, [2, 1], method=\"CG\", jac=jacobian)"
      ],
      "execution_count": 8,
      "outputs": [
        {
          "output_type": "stream",
          "name": "stdout",
          "text": [
            "0.6999999997839409\n"
          ]
        },
        {
          "output_type": "execute_result",
          "data": {
            "text/plain": [
              " message: Optimization terminated successfully.\n",
              " success: True\n",
              "  status: 0\n",
              "     fun: 2.957865890641887e-14\n",
              "       x: [ 1.000e+00  1.000e+00]\n",
              "     nit: 8\n",
              "     jac: [ 7.183e-07 -2.990e-07]\n",
              "    nfev: 16\n",
              "    njev: 16"
            ]
          },
          "metadata": {},
          "execution_count": 8
        }
      ]
    },
    {
      "cell_type": "code",
      "source": [
        "cur_x = 3 # Starting value\n",
        "rate = 0.01 # Learning rate\n",
        "precision = 0.000001 # Stop Value\n",
        "previous_step_size = 1\n",
        "max_iters = 10000\n",
        "iters = 0\n",
        "df = lambda x: 2*(x+5) #Gradient of our function\n",
        "\n",
        "while previous_step_size > precision and iters < max_iters:\n",
        "    prev_x = cur_x\n",
        "    cur_x = cur_x - rate * df(prev_x) #Gradient Descent\n",
        "    previous_step_size = abs(cur_x - prev_x) #dx\n",
        "    iters = iters+1 #count\n",
        "\n",
        "print(\"The local minimum occurs at\", cur_x)"
      ],
      "metadata": {
        "colab": {
          "base_uri": "https://localhost:8080/"
        },
        "id": "q-F5imnEZAnM",
        "outputId": "817631a0-2b37-4797-b841-96c8ac97c1fd"
      },
      "execution_count": 9,
      "outputs": [
        {
          "output_type": "stream",
          "name": "stdout",
          "text": [
            "The local minimum occurs at -4.9999518490318176\n"
          ]
        }
      ]
    },
    {
      "cell_type": "markdown",
      "metadata": {
        "id": "JEwysmcC_G_t"
      },
      "source": [
        "**3.3.2 Convexity and Global Minimizers** -\n",
        "\n",
        "A set $D \\subseteq\\mathbb{ R}^d$ is convex if for all $\\textbf{x},\\textbf{y}\\in D$ and\n",
        "all $\\alpha \\in [0,1]$\n",
        "$$(1-\\alpha)\\textbf{x}+\\alpha\\textbf{y}\\in D.$$\n",
        "\n",
        "A function  $f : \\mathbb{R}^d\\to\\mathbb{R}$  is convex if, for\n",
        "all $\\textbf{x},\\textbf{y} \\in \\mathbb{R}^d$ and all $\\alpha \\in [0,1]$\n",
        "$$f((1−\\alpha)\\textbf{x}+\\alpha\\textbf{y}) \\leq (1−\\alpha)f(\\textbf{x}) +\\alpha f(\\textbf{y}).$$"
      ]
    },
    {
      "cell_type": "code",
      "metadata": {
        "colab": {
          "base_uri": "https://localhost:8080/",
          "height": 537
        },
        "id": "u_4A_slMWTaX",
        "outputId": "51a6ffac-a83b-4675-9dc2-3ad11c615572"
      },
      "source": [
        "objective = np.poly1d([1.0, -2.0, 0.0])\n",
        "print(objective)\n",
        "x0 = 3.0\n",
        "min_vals = optimize.minimize(objective,x0)\n",
        "print(\"Solution: x=%f\" % min_vals.x)\n",
        "import matplotlib.pylab as plt\n",
        "x = np.linspace(-3,5,100)\n",
        "plt.plot(x,objective(x))\n",
        "plt.plot(min_vals.x,objective(min_vals.x),'ro')\n",
        "plt.show()"
      ],
      "execution_count": 17,
      "outputs": [
        {
          "output_type": "stream",
          "name": "stdout",
          "text": [
            "   2\n",
            "1 x - 2 x\n",
            "Solution: x=1.000000\n"
          ]
        },
        {
          "output_type": "stream",
          "name": "stderr",
          "text": [
            "<ipython-input-17-222bf389f20f>:5: DeprecationWarning: Conversion of an array with ndim > 0 to a scalar is deprecated, and will error in future. Ensure you extract a single element from your array before performing this operation. (Deprecated NumPy 1.25.)\n",
            "  print(\"Solution: x=%f\" % min_vals.x)\n"
          ]
        },
        {
          "output_type": "display_data",
          "data": {
            "text/plain": [
              "<Figure size 640x480 with 1 Axes>"
            ],
            "image/png": "[encoded data removed]"
          },
          "metadata": {}
        }
      ]
    },
    {
      "cell_type": "code",
      "metadata": {
        "colab": {
          "base_uri": "https://localhost:8080/",
          "height": 589
        },
        "id": "1C9NKcv5WdNj",
        "outputId": "0086f7d6-b24f-4c2e-c2ff-2615eb93d1f1"
      },
      "source": [
        "def objective(x,coeffs):\n",
        "  return coeffs[0]*x**2 + coeffs[1]*x + coeffs[2]\n",
        "x0 = 3.0\n",
        "mycoeffs = [1.0,-2.0,0.0]\n",
        "myoptions={'disp':True}\n",
        "results = optimize.minimize(objective,x0,args=mycoeffs,\n",
        "options = myoptions)\n",
        "print(\"Solution: x=%f\" % results.x)\n",
        "x = np.linspace(-3,5,100)\n",
        "plt.plot(x,objective(x,mycoeffs))\n",
        "plt.plot(results.x,objective(results.x,mycoeffs),'ro')\n",
        "plt.show()"
      ],
      "execution_count": 11,
      "outputs": [
        {
          "output_type": "stream",
          "name": "stdout",
          "text": [
            "Optimization terminated successfully.\n",
            "         Current function value: -1.000000\n",
            "         Iterations: 2\n",
            "         Function evaluations: 6\n",
            "         Gradient evaluations: 3\n",
            "Solution: x=1.000000\n"
          ]
        },
        {
          "output_type": "stream",
          "name": "stderr",
          "text": [
            "<ipython-input-11-978e82de3593>:8: DeprecationWarning: Conversion of an array with ndim > 0 to a scalar is deprecated, and will error in future. Ensure you extract a single element from your array before performing this operation. (Deprecated NumPy 1.25.)\n",
            "  print(\"Solution: x=%f\" % results.x)\n"
          ]
        },
        {
          "output_type": "display_data",
          "data": {
            "text/plain": [
              "<Figure size 640x480 with 1 Axes>"
            ],
            "image/png": "[encoded data removed]"
          },
          "metadata": {}
        }
      ]
    },
    {
      "cell_type": "markdown",
      "source": [
        "A value xₒ is a global minimizer if the gradient of a convex, continuously differentiable function at xₒ is equal to 0. Any local minizer of any convex function function is also a global minizer."
      ],
      "metadata": {
        "id": "p2QGWncXaQVE"
      }
    },
    {
      "cell_type": "code",
      "metadata": {
        "colab": {
          "base_uri": "https://localhost:8080/"
        },
        "id": "4kr4ZMA-Xl6E",
        "outputId": "2fb090e2-3abd-477a-d079-23bf9ba26282"
      },
      "source": [
        "optimize.brute(f, ((-1, 2), (-1, 2)))"
      ],
      "execution_count": 18,
      "outputs": [
        {
          "output_type": "execute_result",
          "data": {
            "text/plain": [
              "array([1.00001462, 1.00001547])"
            ]
          },
          "metadata": {},
          "execution_count": 18
        }
      ]
    },
    {
      "cell_type": "markdown",
      "metadata": {
        "id": "TiR6lAII_OCP"
      },
      "source": [
        "**3.3.3 Gradient Descent**"
      ]
    },
    {
      "cell_type": "markdown",
      "metadata": {
        "id": "mp3hiKdoQEG9"
      },
      "source": [
        "Lemma 3.3.22 (Steepest Descent):\n",
        "\n",
        "Let $f : \\mathbb{R}^d\\to\\mathbb{R}$ be continuously differentiable at $\\textbf{x}_0$. For any unit vector $\\textbf{v}\\in\\mathbb{R}^d$,\n",
        "$$\\frac{\\partial f(\\textbf{x}_0)}{\\partial \\textbf{v}}\\geq\\frac{\\partial f(\\textbf{x}_0)}{\\partial\\textbf{v}^*}$$\n",
        "\n"
      ]
    },
    {
      "cell_type": "markdown",
      "metadata": {
        "id": "KDCq2xUWQWno"
      },
      "source": [
        "Theorem 3.3.23\n",
        "\n",
        "Suppose that  $f : \\mathbb{R}^d\\to\\mathbb{R}$ is twice continuously differentiable. The step size is chosen to minimize\n",
        "$$\\alpha_k = \\arg \\min_{\\alpha >0}f(\\textbf{x}^k −\\alpha\\nabla f(\\textbf{x}^k\n",
        "))$$\n",
        "Then steepest descent started from any $\\textbf{x}^0$ produces a sequence $\\textbf{x}^k$, $k = 1,2,\\cdots$ such that if $\\nabla f(\\textbf{x}^k)\\neq 0$, then\n",
        "$$f(\\textbf{x}^{k+1}) \\leq f(\\textbf{x}^k), \\forall k \\geq 1$$"
      ]
    },
    {
      "cell_type": "code",
      "metadata": {
        "colab": {
          "base_uri": "https://localhost:8080/"
        },
        "id": "TljdHuBIXADb",
        "outputId": "e03d9a38-4f6c-4855-8110-3867961d86fd"
      },
      "source": [
        "optimize.minimize(f, [2, -1], method=\"CG\")"
      ],
      "execution_count": 16,
      "outputs": [
        {
          "output_type": "execute_result",
          "data": {
            "text/plain": [
              " message: Optimization terminated successfully.\n",
              " success: True\n",
              "  status: 0\n",
              "     fun: 1.6503729082243953e-11\n",
              "       x: [ 1.000e+00  1.000e+00]\n",
              "     nit: 13\n",
              "     jac: [-6.153e-06  2.538e-07]\n",
              "    nfev: 81\n",
              "    njev: 27"
            ]
          },
          "metadata": {},
          "execution_count": 16
        }
      ]
    },
    {
      "cell_type": "markdown",
      "source": [
        "Source: [madonnaojorin](https://github.com/madonnaojorin/MAT494/blob/main/3.3_Unconstrained_Optimization.ipynb)"
      ],
      "metadata": {
        "id": "QZx0WTeGbDGb"
      }
    }
  ]
}